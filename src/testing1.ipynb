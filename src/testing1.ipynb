{
 "cells": [
  {
   "cell_type": "code",
   "execution_count": 4,
   "metadata": {},
   "outputs": [],
   "source": [
    "import yfinance as yf\n",
    "import pandas as pd\n",
    "import numpy as np\n",
    "from sklearn.model_selection import train_test_split\n",
    "from sklearn.preprocessing import StandardScaler\n",
    "from sklearn.ensemble import RandomForestRegressor\n",
    "from sklearn.metrics import mean_squared_error\n",
    "import time"
   ]
  },
  {
   "cell_type": "code",
   "execution_count": 5,
   "metadata": {},
   "outputs": [],
   "source": [
    "def fetch_data(symbol, start_date, end_date):\n",
    "    try:\n",
    "        data = yf.download(symbol, start=start_date, end=end_date)\n",
    "        return data\n",
    "    except Exception as e:\n",
    "        print(f\"Error fetching data: {e}\")\n",
    "        return None\n"
   ]
  },
  {
   "cell_type": "code",
   "execution_count": 6,
   "metadata": {},
   "outputs": [],
   "source": [
    "def preprocess_data(data):\n",
    "    # Calculate additional features\n",
    "    data['Returns'] = data['Close'].pct_change()\n",
    "    data['MA5'] = data['Close'].rolling(window=5).mean()\n",
    "    data['MA20'] = data['Close'].rolling(window=20).mean()\n",
    "    data['Volatility'] = data['Returns'].rolling(window=20).std()\n",
    "    \n",
    "    # Drop NaN values\n",
    "    data = data.dropna()\n",
    "    \n",
    "    # Create features and target\n",
    "    features = ['Open', 'High', 'Low', 'Volume', 'Returns', 'MA5', 'MA20', 'Volatility']\n",
    "    X = data[features]\n",
    "    y = data['Close']\n",
    "    \n",
    "    return X, y\n"
   ]
  },
  {
   "cell_type": "code",
   "execution_count": 7,
   "metadata": {},
   "outputs": [],
   "source": [
    "def train_model(X, y):\n",
    "    # Split the data\n",
    "    X_train, X_test, y_train, y_test = train_test_split(X, y, test_size=0.2, random_state=42)\n",
    "    \n",
    "    # Scale the features\n",
    "    scaler = StandardScaler()\n",
    "    X_train_scaled = scaler.fit_transform(X_train)\n",
    "    X_test_scaled = scaler.transform(X_test)\n",
    "    \n",
    "    # Train a Random Forest model\n",
    "    model = RandomForestRegressor(n_estimators=100, random_state=42)\n",
    "    model.fit(X_train_scaled, y_train)\n",
    "    \n",
    "    # Make predictions\n",
    "    y_pred = model.predict(X_test_scaled)\n",
    "    \n",
    "    # Calculate error\n",
    "    mse = mean_squared_error(y_test, y_pred)\n",
    "    rmse = np.sqrt(mse)\n",
    "    \n",
    "    return model, scaler, rmse\n"
   ]
  },
  {
   "cell_type": "code",
   "execution_count": 10,
   "metadata": {},
   "outputs": [],
   "source": [
    "symbol = \"PSX\"  # Adjust this symbol if needed\n",
    "start_date = \"2020-01-01\"\n",
    "end_date = \"2023-12-31\"\n"
   ]
  },
  {
   "cell_type": "code",
   "execution_count": 11,
   "metadata": {},
   "outputs": [
    {
     "name": "stderr",
     "output_type": "stream",
     "text": [
      "[*********************100%***********************]  1 of 1 completed"
     ]
    },
    {
     "name": "stdout",
     "output_type": "stream",
     "text": [
      "Data fetched successfully\n"
     ]
    },
    {
     "name": "stderr",
     "output_type": "stream",
     "text": [
      "\n"
     ]
    }
   ],
   "source": [
    "data = fetch_data(symbol, start_date, end_date)\n",
    "if data is not None:\n",
    "    print(\"Data fetched successfully\")\n",
    "else:\n",
    "    print(\"Failed to fetch data\")\n"
   ]
  },
  {
   "cell_type": "code",
   "execution_count": 12,
   "metadata": {},
   "outputs": [
    {
     "name": "stdout",
     "output_type": "stream",
     "text": [
      "Data preprocessed. Number of samples: 986\n"
     ]
    }
   ],
   "source": [
    "if data is not None:\n",
    "    X, y = preprocess_data(data)\n",
    "    print(f\"Data preprocessed. Number of samples: {len(X)}\")\n",
    "else:\n",
    "    print(\"Data not available for preprocessing.\")"
   ]
  },
  {
   "cell_type": "code",
   "execution_count": 13,
   "metadata": {},
   "outputs": [
    {
     "name": "stdout",
     "output_type": "stream",
     "text": [
      "Model trained. RMSE: 0.942521024833002\n"
     ]
    }
   ],
   "source": [
    "if data is not None:\n",
    "    model, scaler, rmse = train_model(X, y)\n",
    "    print(f\"Model trained. RMSE: {rmse}\")\n",
    "else:\n",
    "    print(\"No data available for training.\")\n"
   ]
  },
  {
   "cell_type": "code",
   "execution_count": 15,
   "metadata": {},
   "outputs": [
    {
     "name": "stderr",
     "output_type": "stream",
     "text": [
      "[*********************100%***********************]  1 of 1 completed"
     ]
    },
    {
     "name": "stdout",
     "output_type": "stream",
     "text": [
      "New data fetched successfully for prediction\n"
     ]
    },
    {
     "name": "stderr",
     "output_type": "stream",
     "text": [
      "\n"
     ]
    }
   ],
   "source": [
    "new_start_date = \"2024-01-01\"\n",
    "new_end_date = \"2024-02-28\"\n",
    "new_data = fetch_data(symbol, new_start_date, new_end_date)\n",
    "\n",
    "if new_data is not None:\n",
    "    print(\"New data fetched successfully for prediction\")\n",
    "else:\n",
    "    print(\"Failed to fetch new data for prediction\")"
   ]
  },
  {
   "cell_type": "code",
   "execution_count": 19,
   "metadata": {},
   "outputs": [],
   "source": [
    "def make_prediction(model, scaler, input_data):\n",
    "    # Ensure input_data is a DataFrame with the same structure as the training data\n",
    "    input_df = pd.DataFrame([input_data], columns=['Open', 'High', 'Low', 'Volume', 'Returns', 'MA5', 'MA20', 'Volatility'])\n",
    "    \n",
    "    # Scale the input data using the same scaler as used during training\n",
    "    input_scaled = scaler.transform(input_df)\n",
    "    \n",
    "    # Make the prediction\n",
    "    prediction = model.predict(input_scaled)\n",
    "    \n",
    "    return prediction[0]\n"
   ]
  },
  {
   "cell_type": "code",
   "execution_count": 20,
   "metadata": {},
   "outputs": [
    {
     "name": "stdout",
     "output_type": "stream",
     "text": [
      "Predicted Close Price: 134.4006999206543\n"
     ]
    }
   ],
   "source": [
    "# Example input data\n",
    "example_input = {\n",
    "    'Open': 43000,          # Replace with actual values\n",
    "    'High': 43500,\n",
    "    'Low': 42800,\n",
    "    'Volume': 100000,\n",
    "    'Returns': 0.002,       # Example percentage change\n",
    "    'MA5': 43200,           # 5-day moving average\n",
    "    'MA20': 43150,          # 20-day moving average\n",
    "    'Volatility': 0.01      # 20-day standard deviation of returns\n",
    "}\n",
    "\n",
    "# Check if model and scaler are available\n",
    "if 'model' in locals() and 'scaler' in locals():\n",
    "    # Make prediction\n",
    "    prediction = make_prediction(model, scaler, example_input)\n",
    "    print(f\"Predicted Close Price: {prediction}\")\n",
    "else:\n",
    "    print(\"Model or scaler is not available. Please train the model first.\")\n"
   ]
  },
  {
   "cell_type": "code",
   "execution_count": 21,
   "metadata": {},
   "outputs": [
    {
     "name": "stderr",
     "output_type": "stream",
     "text": [
      "[*********************100%***********************]  1 of 1 completed\n"
     ]
    }
   ],
   "source": [
    "# Fetch live data from Pakistan Stock Exchange\n",
    "data = yf.download(\"PSX\", period=\"1d\", interval=\"1m\")\n",
    "data.to_csv('historical_data.csv')"
   ]
  },
  {
   "cell_type": "markdown",
   "metadata": {},
   "source": [
    "data = pd.read_csv(\"historical_data.csv\")\n",
    "features = ['Datetime','Close']\n",
    "X = data.drop(features, axis=1)\n",
    "y = data[\"Close\"]\n",
    "model = RandomForestRegressor()\n",
    "model.fit(X, y)"
   ]
  },
  {
   "cell_type": "code",
   "execution_count": null,
   "metadata": {},
   "outputs": [],
   "source": []
  }
 ],
 "metadata": {
  "kernelspec": {
   "display_name": "atomcamp_eda",
   "language": "python",
   "name": "python3"
  },
  "language_info": {
   "codemirror_mode": {
    "name": "ipython",
    "version": 3
   },
   "file_extension": ".py",
   "mimetype": "text/x-python",
   "name": "python",
   "nbconvert_exporter": "python",
   "pygments_lexer": "ipython3",
   "version": "3.12.5"
  }
 },
 "nbformat": 4,
 "nbformat_minor": 2
}

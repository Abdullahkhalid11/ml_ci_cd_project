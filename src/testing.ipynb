{
 "cells": [
  {
   "cell_type": "code",
   "execution_count": 1,
   "metadata": {},
   "outputs": [],
   "source": [
    "import yfinance as yf\n",
    "import pandas as pd\n",
    "from sklearn.linear_model import LinearRegression"
   ]
  },
  {
   "cell_type": "code",
   "execution_count": 2,
   "metadata": {},
   "outputs": [],
   "source": [
    "# Retrieve stock data (e.g., PSX)\n",
    "ticker = yf.Ticker(\"PSX\")\n",
    "data = ticker.history(period=\"1d\", interval=\"1m\")  # Get 1-minute interval data for today"
   ]
  },
  {
   "cell_type": "code",
   "execution_count": 3,
   "metadata": {},
   "outputs": [],
   "source": [
    "# Save the data to a CSV\n",
    "data.to_csv('psx_stock_data.csv')\n",
    "\n",
    "# Load the stock data\n",
    "data = pd.read_csv('psx_stock_data.csv')"
   ]
  },
  {
   "cell_type": "code",
   "execution_count": 4,
   "metadata": {},
   "outputs": [
    {
     "name": "stdout",
     "output_type": "stream",
     "text": [
      "Predicted close price: 779.37\n"
     ]
    }
   ],
   "source": [
    "# Use 'Open' price to predict 'Close' price (for demonstration)\n",
    "X = data[['Open']].values\n",
    "y = data['Close'].values\n",
    "\n",
    "# Train a simple linear regression model\n",
    "model = LinearRegression()\n",
    "model.fit(X, y)\n",
    "\n",
    "# Predict the closing price based on a new opening price\n",
    "new_open_price = [[800]]  # Replace with a hypothetical opening price\n",
    "predicted_close_price = model.predict(new_open_price)\n",
    "print(f\"Predicted close price: {predicted_close_price[0]:.2f}\")"
   ]
  },
  {
   "cell_type": "code",
   "execution_count": 5,
   "metadata": {},
   "outputs": [
    {
     "data": {
      "text/html": [
       "<div>\n",
       "<style scoped>\n",
       "    .dataframe tbody tr th:only-of-type {\n",
       "        vertical-align: middle;\n",
       "    }\n",
       "\n",
       "    .dataframe tbody tr th {\n",
       "        vertical-align: top;\n",
       "    }\n",
       "\n",
       "    .dataframe thead th {\n",
       "        text-align: right;\n",
       "    }\n",
       "</style>\n",
       "<table border=\"1\" class=\"dataframe\">\n",
       "  <thead>\n",
       "    <tr style=\"text-align: right;\">\n",
       "      <th></th>\n",
       "      <th>Datetime</th>\n",
       "      <th>Open</th>\n",
       "      <th>High</th>\n",
       "      <th>Low</th>\n",
       "      <th>Close</th>\n",
       "      <th>Volume</th>\n",
       "      <th>Dividends</th>\n",
       "      <th>Stock Splits</th>\n",
       "    </tr>\n",
       "  </thead>\n",
       "  <tbody>\n",
       "    <tr>\n",
       "      <th>0</th>\n",
       "      <td>2024-10-18 09:30:00-04:00</td>\n",
       "      <td>133.539993</td>\n",
       "      <td>133.809998</td>\n",
       "      <td>133.440002</td>\n",
       "      <td>133.500000</td>\n",
       "      <td>127854</td>\n",
       "      <td>0.0</td>\n",
       "      <td>0.0</td>\n",
       "    </tr>\n",
       "    <tr>\n",
       "      <th>1</th>\n",
       "      <td>2024-10-18 09:31:00-04:00</td>\n",
       "      <td>133.509995</td>\n",
       "      <td>133.669998</td>\n",
       "      <td>133.509995</td>\n",
       "      <td>133.669998</td>\n",
       "      <td>1099</td>\n",
       "      <td>0.0</td>\n",
       "      <td>0.0</td>\n",
       "    </tr>\n",
       "    <tr>\n",
       "      <th>2</th>\n",
       "      <td>2024-10-18 09:32:00-04:00</td>\n",
       "      <td>133.514999</td>\n",
       "      <td>133.919998</td>\n",
       "      <td>133.514999</td>\n",
       "      <td>133.714996</td>\n",
       "      <td>6750</td>\n",
       "      <td>0.0</td>\n",
       "      <td>0.0</td>\n",
       "    </tr>\n",
       "    <tr>\n",
       "      <th>3</th>\n",
       "      <td>2024-10-18 09:33:00-04:00</td>\n",
       "      <td>133.539993</td>\n",
       "      <td>133.539993</td>\n",
       "      <td>133.220001</td>\n",
       "      <td>133.339996</td>\n",
       "      <td>2785</td>\n",
       "      <td>0.0</td>\n",
       "      <td>0.0</td>\n",
       "    </tr>\n",
       "    <tr>\n",
       "      <th>4</th>\n",
       "      <td>2024-10-18 09:34:00-04:00</td>\n",
       "      <td>133.199997</td>\n",
       "      <td>133.210007</td>\n",
       "      <td>133.199997</td>\n",
       "      <td>133.210007</td>\n",
       "      <td>1033</td>\n",
       "      <td>0.0</td>\n",
       "      <td>0.0</td>\n",
       "    </tr>\n",
       "  </tbody>\n",
       "</table>\n",
       "</div>"
      ],
      "text/plain": [
       "                    Datetime        Open        High         Low       Close  \\\n",
       "0  2024-10-18 09:30:00-04:00  133.539993  133.809998  133.440002  133.500000   \n",
       "1  2024-10-18 09:31:00-04:00  133.509995  133.669998  133.509995  133.669998   \n",
       "2  2024-10-18 09:32:00-04:00  133.514999  133.919998  133.514999  133.714996   \n",
       "3  2024-10-18 09:33:00-04:00  133.539993  133.539993  133.220001  133.339996   \n",
       "4  2024-10-18 09:34:00-04:00  133.199997  133.210007  133.199997  133.210007   \n",
       "\n",
       "   Volume  Dividends  Stock Splits  \n",
       "0  127854        0.0           0.0  \n",
       "1    1099        0.0           0.0  \n",
       "2    6750        0.0           0.0  \n",
       "3    2785        0.0           0.0  \n",
       "4    1033        0.0           0.0  "
      ]
     },
     "execution_count": 5,
     "metadata": {},
     "output_type": "execute_result"
    }
   ],
   "source": [
    "data.head()"
   ]
  },
  {
   "cell_type": "code",
   "execution_count": 7,
   "metadata": {},
   "outputs": [
    {
     "data": {
      "text/plain": [
       "(35, 8)"
      ]
     },
     "execution_count": 7,
     "metadata": {},
     "output_type": "execute_result"
    }
   ],
   "source": [
    "data.shape"
   ]
  },
  {
   "cell_type": "code",
   "execution_count": null,
   "metadata": {},
   "outputs": [],
   "source": []
  }
 ],
 "metadata": {
  "kernelspec": {
   "display_name": "atomcamp_eda",
   "language": "python",
   "name": "python3"
  },
  "language_info": {
   "codemirror_mode": {
    "name": "ipython",
    "version": 3
   },
   "file_extension": ".py",
   "mimetype": "text/x-python",
   "name": "python",
   "nbconvert_exporter": "python",
   "pygments_lexer": "ipython3",
   "version": "3.12.5"
  }
 },
 "nbformat": 4,
 "nbformat_minor": 2
}
